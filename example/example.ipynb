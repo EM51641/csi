{
 "cells": [
  {
   "cell_type": "markdown",
   "metadata": {},
   "source": [
    "Let's define some synchronous validators first:"
   ]
  },
  {
   "cell_type": "code",
   "execution_count": 14,
   "metadata": {},
   "outputs": [],
   "source": [
    "def is_divisible_by_three(x: float):\n",
    "    return x % 3 == 0\n",
    "\n",
    "\n",
    "def is_all_positive(numbers: list[float]):\n",
    "    return all(number > 0 for number in numbers)\n",
    "\n",
    "\n",
    "def is_quotient_positive(x: float, y: float):\n",
    "    return x / y > 0"
   ]
  },
  {
   "cell_type": "markdown",
   "metadata": {},
   "source": [
    "We instantiate subvalidators such:"
   ]
  },
  {
   "cell_type": "code",
   "execution_count": 15,
   "metadata": {},
   "outputs": [],
   "source": [
    "from csi import Subvalidator\n",
    "\n",
    "first_subvalidator = Subvalidator(\n",
    "    name=\"First condition\",\n",
    "    message_if_fails=\"Number is not divisible by 3\",\n",
    "    callable=is_divisible_by_three,\n",
    "    x=3\n",
    "    )\n",
    "\n",
    "second_subvalidator = Subvalidator(\n",
    "    name=\"Second condition\",\n",
    "    message_if_fails=\"Not every number is positive\",\n",
    "    callable=is_all_positive,\n",
    "    numbers=[1, 2, 3, 4, 5, 6, 7, 8, 9, -10],\n",
    "    )\n",
    "\n",
    "third_subvalidator = Subvalidator(\n",
    "    \"Third condition\",\n",
    "    \"Quotient is not positive\",\n",
    "    is_quotient_positive,\n",
    "    10,\n",
    "    2,\n",
    "    )"
   ]
  },
  {
   "cell_type": "markdown",
   "metadata": {},
   "source": [
    "Finally, we can instantiate our unbounded validator, add to it all the subvalidators and run it:"
   ]
  },
  {
   "cell_type": "code",
   "execution_count": 16,
   "metadata": {},
   "outputs": [],
   "source": [
    "from csi import Validator\n",
    "\n",
    "validator = Validator()\n",
    "\n",
    "validator.add(first_subvalidator)\n",
    "validator.add(second_subvalidator)\n",
    "validator.add(third_subvalidator)\n",
    "\n",
    "validator.run()"
   ]
  },
  {
   "cell_type": "markdown",
   "metadata": {},
   "source": [
    "Unvalidated conditions are all gathered in the ```unvalidated_set``` property of the validator instance."
   ]
  },
  {
   "cell_type": "code",
   "execution_count": 17,
   "metadata": {},
   "outputs": [
    {
     "name": "stdout",
     "output_type": "stream",
     "text": [
      "{ValidatorError(condition='Second condition', error_message='Not every number is positive')}\n"
     ]
    }
   ],
   "source": [
    "print(validator.unvalidated_set)"
   ]
  },
  {
   "cell_type": "markdown",
   "metadata": {},
   "source": [
    "# Asynchronous usage\n",
    "\n",
    "This library also supports async validation. We can create asyncronous validation callables such:"
   ]
  },
  {
   "cell_type": "code",
   "execution_count": 22,
   "metadata": {},
   "outputs": [],
   "source": [
    "import asyncio\n",
    "\n",
    "\n",
    "async def async_is_divisible_by_three(x: float) -> bool:\n",
    "    await asyncio.sleep(0.1)\n",
    "    return is_divisible_by_three(x)\n",
    "\n",
    "\n",
    "async def async_is_all_positive(numbers: list[float]) -> bool:\n",
    "    await asyncio.sleep(0.1)\n",
    "    return is_all_positive(numbers)"
   ]
  },
  {
   "cell_type": "markdown",
   "metadata": {},
   "source": [
    "Instead of using the ```Subvalidator``` API, we are going to use the ```AsyncSubvalidator``` in the next step:"
   ]
  },
  {
   "cell_type": "code",
   "execution_count": 23,
   "metadata": {},
   "outputs": [],
   "source": [
    "from csi import AsyncSubvalidator\n",
    "\n",
    "first_subvalidator = AsyncSubvalidator(\n",
    "    \"First condition\",\n",
    "    \"Number is not divisible by 3\",\n",
    "    async_is_divisible_by_three,\n",
    "    x=10,\n",
    "    )\n",
    "\n",
    "second_subvalidator = AsyncSubvalidator(\n",
    "    \"Second condition\",\n",
    "    \"Not every number is positive\",\n",
    "    async_is_all_positive,\n",
    "    numbers=[1, 2, 3, 4, 5, 6, 7, 8, 9, 10],\n",
    "    )"
   ]
  },
  {
   "cell_type": "markdown",
   "metadata": {},
   "source": [
    "Same for the ```Validator``` API, we will switch the the ```AsyncValidator```."
   ]
  },
  {
   "cell_type": "code",
   "execution_count": 24,
   "metadata": {},
   "outputs": [
    {
     "name": "stdout",
     "output_type": "stream",
     "text": [
      "{ValidatorError(condition='First condition', error_message='Number is not divisible by 3')}\n"
     ]
    }
   ],
   "source": [
    "from csi import AsyncValidator\n",
    "\n",
    "validator = AsyncValidator()\n",
    "validator.add(first_subvalidator)\n",
    "validator.add(second_subvalidator)\n",
    "\n",
    "await validator.run()\n",
    "print(validator.unvalidated_set)"
   ]
  }
 ],
 "metadata": {
  "kernelspec": {
   "display_name": "Python 3",
   "language": "python",
   "name": "python3"
  },
  "language_info": {
   "codemirror_mode": {
    "name": "ipython",
    "version": 3
   },
   "file_extension": ".py",
   "mimetype": "text/x-python",
   "name": "python",
   "nbconvert_exporter": "python",
   "pygments_lexer": "ipython3",
   "version": "3.11.4"
  },
  "orig_nbformat": 4
 },
 "nbformat": 4,
 "nbformat_minor": 2
}
